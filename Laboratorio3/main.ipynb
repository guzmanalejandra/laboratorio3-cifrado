{
 "cells": [
  {
   "cell_type": "code",
   "execution_count": 12,
   "metadata": {},
   "outputs": [
    {
     "name": "stdout",
     "output_type": "stream",
     "text": [
      "Keystream:  ¡2MÞÇÓ\n",
      "Mensaje cifrado:  ['11101001', '01011101', '11100101', '00101100', '11111110', '10101010', '10100110', '11111101', '11101101', '11111111']\n"
     ]
    },
    {
     "ename": "ValueError",
     "evalue": "invalid literal for int() with base 2: '¡'",
     "output_type": "error",
     "traceback": [
      "\u001b[1;31m---------------------------------------------------------------------------\u001b[0m",
      "\u001b[1;31mValueError\u001b[0m                                Traceback (most recent call last)",
      "Cell \u001b[1;32mIn[12], line 12\u001b[0m\n\u001b[0;32m      9\u001b[0m \u001b[38;5;28mprint\u001b[39m(\u001b[38;5;124m\"\u001b[39m\u001b[38;5;124mMensaje cifrado: \u001b[39m\u001b[38;5;124m\"\u001b[39m, mensaje_cifrado)\n\u001b[0;32m     11\u001b[0m \u001b[38;5;66;03m# Uso de la función para decriptar.\u001b[39;00m\n\u001b[1;32m---> 12\u001b[0m mensaje_descifrado \u001b[38;5;241m=\u001b[39m \u001b[43mdescifrar_mensaje\u001b[49m\u001b[43m(\u001b[49m\u001b[43mmensaje_cifrado\u001b[49m\u001b[43m,\u001b[49m\u001b[43m \u001b[49m\u001b[43mkeystream\u001b[49m\u001b[43m)\u001b[49m\n\u001b[0;32m     13\u001b[0m \u001b[38;5;28mprint\u001b[39m(\u001b[38;5;124m\"\u001b[39m\u001b[38;5;124mMensaje descifrado: \u001b[39m\u001b[38;5;124m\"\u001b[39m, mensaje_descifrado)\n\u001b[0;32m     15\u001b[0m mensaje2 \u001b[38;5;241m=\u001b[39m \u001b[38;5;124m\"\u001b[39m\u001b[38;5;124mAdión mundo\u001b[39m\u001b[38;5;124m\"\u001b[39m\n",
      "Cell \u001b[1;32mIn[9], line 19\u001b[0m, in \u001b[0;36mdescifrar_mensaje\u001b[1;34m(mensaje_cifrado, keystream)\u001b[0m\n\u001b[0;32m     18\u001b[0m \u001b[38;5;28;01mdef\u001b[39;00m \u001b[38;5;21mdescifrar_mensaje\u001b[39m(mensaje_cifrado, keystream):\n\u001b[1;32m---> 19\u001b[0m     keystream_binario \u001b[38;5;241m=\u001b[39m \u001b[43mbinario_a_texto\u001b[49m\u001b[43m(\u001b[49m\u001b[43mkeystream\u001b[49m\u001b[43m)\u001b[49m\n\u001b[0;32m     20\u001b[0m     mensaje_descifrado_binario \u001b[38;5;241m=\u001b[39m xor_cadenas(mensaje_cifrado, keystream_binario)\n\u001b[0;32m     21\u001b[0m     \u001b[38;5;28;01mreturn\u001b[39;00m binario_a_texto(mensaje_descifrado_binario)\n",
      "File \u001b[1;32mc:\\Users\\alegu\\laboratorio3-cifrado-1\\Laboratorio3\\binary.py:5\u001b[0m, in \u001b[0;36mbinario_a_texto\u001b[1;34m(binario)\u001b[0m\n\u001b[0;32m      4\u001b[0m \u001b[38;5;28;01mdef\u001b[39;00m \u001b[38;5;21mbinario_a_texto\u001b[39m(binario):\n\u001b[1;32m----> 5\u001b[0m     \u001b[38;5;28;01mreturn\u001b[39;00m \u001b[38;5;124;43m'\u001b[39;49m\u001b[38;5;124;43m'\u001b[39;49m\u001b[38;5;241;43m.\u001b[39;49m\u001b[43mjoin\u001b[49m\u001b[43m(\u001b[49m\u001b[38;5;28;43mchr\u001b[39;49m\u001b[43m(\u001b[49m\u001b[38;5;28;43mint\u001b[39;49m\u001b[43m(\u001b[49m\u001b[43mb\u001b[49m\u001b[43m,\u001b[49m\u001b[43m \u001b[49m\u001b[38;5;241;43m2\u001b[39;49m\u001b[43m)\u001b[49m\u001b[43m)\u001b[49m\u001b[43m \u001b[49m\u001b[38;5;28;43;01mfor\u001b[39;49;00m\u001b[43m \u001b[49m\u001b[43mb\u001b[49m\u001b[43m \u001b[49m\u001b[38;5;129;43;01min\u001b[39;49;00m\u001b[43m \u001b[49m\u001b[43mbinario\u001b[49m\u001b[43m)\u001b[49m\n",
      "File \u001b[1;32mc:\\Users\\alegu\\laboratorio3-cifrado-1\\Laboratorio3\\binary.py:5\u001b[0m, in \u001b[0;36m<genexpr>\u001b[1;34m(.0)\u001b[0m\n\u001b[0;32m      4\u001b[0m \u001b[38;5;28;01mdef\u001b[39;00m \u001b[38;5;21mbinario_a_texto\u001b[39m(binario):\n\u001b[1;32m----> 5\u001b[0m     \u001b[38;5;28;01mreturn\u001b[39;00m \u001b[38;5;124m'\u001b[39m\u001b[38;5;124m'\u001b[39m\u001b[38;5;241m.\u001b[39mjoin(\u001b[38;5;28mchr\u001b[39m(\u001b[38;5;28;43mint\u001b[39;49m\u001b[43m(\u001b[49m\u001b[43mb\u001b[49m\u001b[43m,\u001b[49m\u001b[43m \u001b[49m\u001b[38;5;241;43m2\u001b[39;49m\u001b[43m)\u001b[49m) \u001b[38;5;28;01mfor\u001b[39;00m b \u001b[38;5;129;01min\u001b[39;00m binario)\n",
      "\u001b[1;31mValueError\u001b[0m: invalid literal for int() with base 2: '¡'"
     ]
    }
   ],
   "source": [
    "from gen import *\n",
    "\n",
    "mensaje = \"Hola mundo\"\n",
    "keystream = generar_keystream(len(mensaje))\n",
    "\n",
    "print(\"Keystream: \", keystream)\n",
    "\n",
    "mensaje_cifrado = cifrar_mensaje(mensaje, keystream)\n",
    "print(\"Mensaje cifrado: \", mensaje_cifrado)\n",
    "\n",
    "# Uso de la función para decriptar.\n",
    "mensaje_descifrado = descifrar_mensaje(mensaje_cifrado, keystream)\n",
    "print(\"Mensaje descifrado: \", mensaje_descifrado)\n",
    "\n",
    "mensaje2 = \"Adión mundo\"\n",
    "mensaje_cifrado2 = cifrar_mensaje(mensaje2, keystream)\n",
    "print(\"Mensaje cifrado: \", mensaje_cifrado2)\n",
    "\n",
    "mensaje_descifrado2 = descifrar_mensaje(mensaje_cifrado2, keystream)\n",
    "print(\"Mensaje descifrado: \", mensaje_descifrado2)"
   ]
  }
 ],
 "metadata": {
  "kernelspec": {
   "display_name": "Python 3",
   "language": "python",
   "name": "python3"
  },
  "language_info": {
   "codemirror_mode": {
    "name": "ipython",
    "version": 3
   },
   "file_extension": ".py",
   "mimetype": "text/x-python",
   "name": "python",
   "nbconvert_exporter": "python",
   "pygments_lexer": "ipython3",
   "version": "3.12.2"
  }
 },
 "nbformat": 4,
 "nbformat_minor": 2
}
